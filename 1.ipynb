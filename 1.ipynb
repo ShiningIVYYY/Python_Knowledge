{
 "cells": [
  {
   "cell_type": "markdown",
   "id": "dde62bb8",
   "metadata": {},
   "source": [
    "# 要点\n",
    "1. 给变量赋值的时候不需要在前面写上变量类型，直接赋值即可\n",
    "   \n",
    "    <font color=\"blue\">x=1.0</font>\n",
    "\n",
    "2. "
   ]
  },
  {
   "cell_type": "code",
   "execution_count": null,
   "id": "c1c85d3a",
   "metadata": {},
   "outputs": [],
   "source": []
  }
 ],
 "metadata": {
  "kernelspec": {
   "display_name": "pytorch126",
   "language": "python",
   "name": "python3"
  },
  "language_info": {
   "name": "python",
   "version": "3.12.9"
  }
 },
 "nbformat": 4,
 "nbformat_minor": 5
}
